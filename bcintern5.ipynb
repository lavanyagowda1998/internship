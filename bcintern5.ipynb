{
  "nbformat": 4,
  "nbformat_minor": 0,
  "metadata": {
    "colab": {
      "name": "bcintern5.ipynb",
      "version": "0.3.2",
      "provenance": [],
      "toc_visible": true,
      "include_colab_link": true
    },
    "kernelspec": {
      "name": "python3",
      "display_name": "Python 3"
    }
  },
  "cells": [
    {
      "cell_type": "markdown",
      "metadata": {
        "id": "view-in-github",
        "colab_type": "text"
      },
      "source": [
        "<a href=\"https://colab.research.google.com/github/lavanyagowda1998/internship/blob/master/bcintern5.ipynb\" target=\"_parent\"><img src=\"https://colab.research.google.com/assets/colab-badge.svg\" alt=\"Open In Colab\"/></a>"
      ]
    },
    {
      "cell_type": "code",
      "metadata": {
        "id": "qk9_gzy9iOqe",
        "colab_type": "code",
        "colab": {
          "base_uri": "https://localhost:8080/",
          "height": 104
        },
        "outputId": "badb2b23-597b-45d2-89cd-66f752371825"
      },
      "source": [
        "import numpy as np # linear algebra\n",
        "import pandas as pd # data processing, CSV file I/O (e.g. pd.read_csv), data manipulation as in SQL\n",
        "import matplotlib.pyplot as plt # this is used for the plot the graph \n",
        "import seaborn as sns # used for plot interactive graph. I like it most for plot\n",
        "%matplotlib inline\n",
        "from sklearn.linear_model import LogisticRegression # to apply the Logistic regression\n",
        "from sklearn.model_selection import train_test_split # to split the data into two parts\n",
        "from sklearn.model_selection import GridSearchCV# for tuning parameter\n",
        "from sklearn.ensemble import RandomForestClassifier # for random forest classifier\n",
        "from sklearn.naive_bayes import GaussianNB\n",
        "from sklearn.neighbors import KNeighborsClassifier\n",
        "from sklearn.tree import DecisionTreeClassifier\n",
        "from sklearn import svm # for Support Vector Machine\n",
        "from sklearn import metrics # for the check the error and accuracy of the model\n",
        "# Any results you write to the current directory are saved as output.\n",
        "# dont worry about the error if its not working then insteda of model_selection we can use cross_validation\n",
        "data = pd.read_csv(\"wisc_bc_data.csv\")# here header 0 means the 0 th row is our coloumn \n",
        "                                                # header in data\n",
        "\n",
        "# have a look at the data\n",
        "print(data.head(2))"
      ],
      "execution_count": 12,
      "outputs": [
        {
          "output_type": "stream",
          "text": [
            "         id diagnosis  ...  symmetry_worst  dimension_worst\n",
            "0  87139402         B  ...          0.2827          0.06771\n",
            "1   8910251         B  ...          0.2940          0.07587\n",
            "\n",
            "[2 rows x 32 columns]\n"
          ],
          "name": "stdout"
        }
      ]
    },
    {
      "cell_type": "code",
      "metadata": {
        "id": "ANC7NVJyozGy",
        "colab_type": "code",
        "colab": {
          "base_uri": "https://localhost:8080/",
          "height": 173
        },
        "outputId": "0dbf99c8-7e40-4174-8351-7f3b25db55bc"
      },
      "source": [
        "data.columns"
      ],
      "execution_count": 13,
      "outputs": [
        {
          "output_type": "execute_result",
          "data": {
            "text/plain": [
              "Index(['id', 'diagnosis', 'radius_mean', 'texture_mean', 'perimeter_mean',\n",
              "       'area_mean', 'smoothness_mean', 'compactness_mean', 'concavity_mean',\n",
              "       'points_mean', 'symmetry_mean', 'dimension_mean', 'radius_se',\n",
              "       'texture_se', 'perimeter_se', 'area_se', 'smoothness_se',\n",
              "       'compactness_se', 'concavity_se', 'points_se', 'symmetry_se',\n",
              "       'dimension_se', 'radius_worst', 'texture_worst', 'perimeter_worst',\n",
              "       'area_worst', 'smoothness_worst', 'compactness_worst',\n",
              "       'concavity_worst', 'points_worst', 'symmetry_worst', 'dimension_worst'],\n",
              "      dtype='object')"
            ]
          },
          "metadata": {
            "tags": []
          },
          "execution_count": 13
        }
      ]
    },
    {
      "cell_type": "code",
      "metadata": {
        "id": "050YPm7Fpval",
        "colab_type": "code",
        "colab": {
          "base_uri": "https://localhost:8080/",
          "height": 660
        },
        "outputId": "2aa51244-078d-481c-e4dd-fdc2d2a1daff"
      },
      "source": [
        "data.info()"
      ],
      "execution_count": 14,
      "outputs": [
        {
          "output_type": "stream",
          "text": [
            "<class 'pandas.core.frame.DataFrame'>\n",
            "RangeIndex: 569 entries, 0 to 568\n",
            "Data columns (total 32 columns):\n",
            "id                   569 non-null int64\n",
            "diagnosis            569 non-null object\n",
            "radius_mean          569 non-null float64\n",
            "texture_mean         569 non-null float64\n",
            "perimeter_mean       569 non-null float64\n",
            "area_mean            569 non-null float64\n",
            "smoothness_mean      569 non-null float64\n",
            "compactness_mean     569 non-null float64\n",
            "concavity_mean       569 non-null float64\n",
            "points_mean          569 non-null float64\n",
            "symmetry_mean        569 non-null float64\n",
            "dimension_mean       569 non-null float64\n",
            "radius_se            569 non-null float64\n",
            "texture_se           569 non-null float64\n",
            "perimeter_se         569 non-null float64\n",
            "area_se              569 non-null float64\n",
            "smoothness_se        569 non-null float64\n",
            "compactness_se       569 non-null float64\n",
            "concavity_se         569 non-null float64\n",
            "points_se            569 non-null float64\n",
            "symmetry_se          569 non-null float64\n",
            "dimension_se         569 non-null float64\n",
            "radius_worst         569 non-null float64\n",
            "texture_worst        569 non-null float64\n",
            "perimeter_worst      569 non-null float64\n",
            "area_worst           569 non-null float64\n",
            "smoothness_worst     569 non-null float64\n",
            "compactness_worst    569 non-null float64\n",
            "concavity_worst      569 non-null float64\n",
            "points_worst         569 non-null float64\n",
            "symmetry_worst       569 non-null float64\n",
            "dimension_worst      569 non-null float64\n",
            "dtypes: float64(30), int64(1), object(1)\n",
            "memory usage: 142.3+ KB\n"
          ],
          "name": "stdout"
        }
      ]
    },
    {
      "cell_type": "code",
      "metadata": {
        "id": "g1PDLZ2H03Js",
        "colab_type": "code",
        "colab": {
          "base_uri": "https://localhost:8080/",
          "height": 124
        },
        "outputId": "7323dbb2-ee31-49ea-be31-fb8c191a113e"
      },
      "source": [
        "# like this we also don't want the Id column for our analysis\n",
        "data.drop(\"id\",axis=1,inplace=True)\n",
        "\n",
        "# As I said above the data can be divided into three parts.lets divied the features according to their category\n",
        "features_mean= list(data.columns[1:11])\n",
        "features_se= list(data.columns[11:20])\n",
        "features_worst=list(data.columns[21:31])\n",
        "print(features_mean)\n",
        "print(\"-----------------------------------\")\n",
        "print(features_se)\n",
        "print(\"------------------------------------\")\n",
        "print(features_worst)\n",
        "\n"
      ],
      "execution_count": 17,
      "outputs": [
        {
          "output_type": "stream",
          "text": [
            "['radius_mean', 'texture_mean', 'perimeter_mean', 'area_mean', 'smoothness_mean', 'compactness_mean', 'concavity_mean', 'points_mean', 'symmetry_mean', 'dimension_mean']\n",
            "-----------------------------------\n",
            "['radius_se', 'texture_se', 'perimeter_se', 'area_se', 'smoothness_se', 'compactness_se', 'concavity_se', 'points_se', 'symmetry_se']\n",
            "------------------------------------\n",
            "['radius_worst', 'texture_worst', 'perimeter_worst', 'area_worst', 'smoothness_worst', 'compactness_worst', 'concavity_worst', 'points_worst', 'symmetry_worst', 'dimension_worst']\n"
          ],
          "name": "stdout"
        }
      ]
    },
    {
      "cell_type": "code",
      "metadata": {
        "id": "K4f7LsOU1Jf2",
        "colab_type": "code",
        "colab": {
          "base_uri": "https://localhost:8080/",
          "height": 320
        },
        "outputId": "40d7109c-3cec-4251-cd1b-490d7ed7d2f8"
      },
      "source": [
        "data.describe() "
      ],
      "execution_count": 18,
      "outputs": [
        {
          "output_type": "execute_result",
          "data": {
            "text/html": [
              "<div>\n",
              "<style scoped>\n",
              "    .dataframe tbody tr th:only-of-type {\n",
              "        vertical-align: middle;\n",
              "    }\n",
              "\n",
              "    .dataframe tbody tr th {\n",
              "        vertical-align: top;\n",
              "    }\n",
              "\n",
              "    .dataframe thead th {\n",
              "        text-align: right;\n",
              "    }\n",
              "</style>\n",
              "<table border=\"1\" class=\"dataframe\">\n",
              "  <thead>\n",
              "    <tr style=\"text-align: right;\">\n",
              "      <th></th>\n",
              "      <th>radius_mean</th>\n",
              "      <th>texture_mean</th>\n",
              "      <th>perimeter_mean</th>\n",
              "      <th>area_mean</th>\n",
              "      <th>smoothness_mean</th>\n",
              "      <th>compactness_mean</th>\n",
              "      <th>concavity_mean</th>\n",
              "      <th>points_mean</th>\n",
              "      <th>symmetry_mean</th>\n",
              "      <th>dimension_mean</th>\n",
              "      <th>radius_se</th>\n",
              "      <th>texture_se</th>\n",
              "      <th>perimeter_se</th>\n",
              "      <th>area_se</th>\n",
              "      <th>smoothness_se</th>\n",
              "      <th>compactness_se</th>\n",
              "      <th>concavity_se</th>\n",
              "      <th>points_se</th>\n",
              "      <th>symmetry_se</th>\n",
              "      <th>dimension_se</th>\n",
              "      <th>radius_worst</th>\n",
              "      <th>texture_worst</th>\n",
              "      <th>perimeter_worst</th>\n",
              "      <th>area_worst</th>\n",
              "      <th>smoothness_worst</th>\n",
              "      <th>compactness_worst</th>\n",
              "      <th>concavity_worst</th>\n",
              "      <th>points_worst</th>\n",
              "      <th>symmetry_worst</th>\n",
              "      <th>dimension_worst</th>\n",
              "    </tr>\n",
              "  </thead>\n",
              "  <tbody>\n",
              "    <tr>\n",
              "      <th>count</th>\n",
              "      <td>569.000000</td>\n",
              "      <td>569.000000</td>\n",
              "      <td>569.000000</td>\n",
              "      <td>569.000000</td>\n",
              "      <td>569.000000</td>\n",
              "      <td>569.000000</td>\n",
              "      <td>569.000000</td>\n",
              "      <td>569.000000</td>\n",
              "      <td>569.000000</td>\n",
              "      <td>569.000000</td>\n",
              "      <td>569.000000</td>\n",
              "      <td>569.000000</td>\n",
              "      <td>569.000000</td>\n",
              "      <td>569.000000</td>\n",
              "      <td>569.000000</td>\n",
              "      <td>569.000000</td>\n",
              "      <td>569.000000</td>\n",
              "      <td>569.000000</td>\n",
              "      <td>569.000000</td>\n",
              "      <td>569.000000</td>\n",
              "      <td>569.000000</td>\n",
              "      <td>569.000000</td>\n",
              "      <td>569.000000</td>\n",
              "      <td>569.000000</td>\n",
              "      <td>569.000000</td>\n",
              "      <td>569.000000</td>\n",
              "      <td>569.000000</td>\n",
              "      <td>569.000000</td>\n",
              "      <td>569.000000</td>\n",
              "      <td>569.000000</td>\n",
              "    </tr>\n",
              "    <tr>\n",
              "      <th>mean</th>\n",
              "      <td>14.127292</td>\n",
              "      <td>19.289649</td>\n",
              "      <td>91.969033</td>\n",
              "      <td>654.889104</td>\n",
              "      <td>0.096360</td>\n",
              "      <td>0.104341</td>\n",
              "      <td>0.088799</td>\n",
              "      <td>0.048919</td>\n",
              "      <td>0.181162</td>\n",
              "      <td>0.062798</td>\n",
              "      <td>0.405172</td>\n",
              "      <td>1.216853</td>\n",
              "      <td>2.866059</td>\n",
              "      <td>40.337079</td>\n",
              "      <td>0.007041</td>\n",
              "      <td>0.025478</td>\n",
              "      <td>0.031894</td>\n",
              "      <td>0.011796</td>\n",
              "      <td>0.020542</td>\n",
              "      <td>0.003795</td>\n",
              "      <td>16.269190</td>\n",
              "      <td>25.677223</td>\n",
              "      <td>107.261213</td>\n",
              "      <td>880.583128</td>\n",
              "      <td>0.132369</td>\n",
              "      <td>0.254265</td>\n",
              "      <td>0.272188</td>\n",
              "      <td>0.114606</td>\n",
              "      <td>0.290076</td>\n",
              "      <td>0.083946</td>\n",
              "    </tr>\n",
              "    <tr>\n",
              "      <th>std</th>\n",
              "      <td>3.524049</td>\n",
              "      <td>4.301036</td>\n",
              "      <td>24.298981</td>\n",
              "      <td>351.914129</td>\n",
              "      <td>0.014064</td>\n",
              "      <td>0.052813</td>\n",
              "      <td>0.079720</td>\n",
              "      <td>0.038803</td>\n",
              "      <td>0.027414</td>\n",
              "      <td>0.007060</td>\n",
              "      <td>0.277313</td>\n",
              "      <td>0.551648</td>\n",
              "      <td>2.021855</td>\n",
              "      <td>45.491006</td>\n",
              "      <td>0.003003</td>\n",
              "      <td>0.017908</td>\n",
              "      <td>0.030186</td>\n",
              "      <td>0.006170</td>\n",
              "      <td>0.008266</td>\n",
              "      <td>0.002646</td>\n",
              "      <td>4.833242</td>\n",
              "      <td>6.146258</td>\n",
              "      <td>33.602542</td>\n",
              "      <td>569.356993</td>\n",
              "      <td>0.022832</td>\n",
              "      <td>0.157336</td>\n",
              "      <td>0.208624</td>\n",
              "      <td>0.065732</td>\n",
              "      <td>0.061867</td>\n",
              "      <td>0.018061</td>\n",
              "    </tr>\n",
              "    <tr>\n",
              "      <th>min</th>\n",
              "      <td>6.981000</td>\n",
              "      <td>9.710000</td>\n",
              "      <td>43.790000</td>\n",
              "      <td>143.500000</td>\n",
              "      <td>0.052630</td>\n",
              "      <td>0.019380</td>\n",
              "      <td>0.000000</td>\n",
              "      <td>0.000000</td>\n",
              "      <td>0.106000</td>\n",
              "      <td>0.049960</td>\n",
              "      <td>0.111500</td>\n",
              "      <td>0.360200</td>\n",
              "      <td>0.757000</td>\n",
              "      <td>6.802000</td>\n",
              "      <td>0.001713</td>\n",
              "      <td>0.002252</td>\n",
              "      <td>0.000000</td>\n",
              "      <td>0.000000</td>\n",
              "      <td>0.007882</td>\n",
              "      <td>0.000895</td>\n",
              "      <td>7.930000</td>\n",
              "      <td>12.020000</td>\n",
              "      <td>50.410000</td>\n",
              "      <td>185.200000</td>\n",
              "      <td>0.071170</td>\n",
              "      <td>0.027290</td>\n",
              "      <td>0.000000</td>\n",
              "      <td>0.000000</td>\n",
              "      <td>0.156500</td>\n",
              "      <td>0.055040</td>\n",
              "    </tr>\n",
              "    <tr>\n",
              "      <th>25%</th>\n",
              "      <td>11.700000</td>\n",
              "      <td>16.170000</td>\n",
              "      <td>75.170000</td>\n",
              "      <td>420.300000</td>\n",
              "      <td>0.086370</td>\n",
              "      <td>0.064920</td>\n",
              "      <td>0.029560</td>\n",
              "      <td>0.020310</td>\n",
              "      <td>0.161900</td>\n",
              "      <td>0.057700</td>\n",
              "      <td>0.232400</td>\n",
              "      <td>0.833900</td>\n",
              "      <td>1.606000</td>\n",
              "      <td>17.850000</td>\n",
              "      <td>0.005169</td>\n",
              "      <td>0.013080</td>\n",
              "      <td>0.015090</td>\n",
              "      <td>0.007638</td>\n",
              "      <td>0.015160</td>\n",
              "      <td>0.002248</td>\n",
              "      <td>13.010000</td>\n",
              "      <td>21.080000</td>\n",
              "      <td>84.110000</td>\n",
              "      <td>515.300000</td>\n",
              "      <td>0.116600</td>\n",
              "      <td>0.147200</td>\n",
              "      <td>0.114500</td>\n",
              "      <td>0.064930</td>\n",
              "      <td>0.250400</td>\n",
              "      <td>0.071460</td>\n",
              "    </tr>\n",
              "    <tr>\n",
              "      <th>50%</th>\n",
              "      <td>13.370000</td>\n",
              "      <td>18.840000</td>\n",
              "      <td>86.240000</td>\n",
              "      <td>551.100000</td>\n",
              "      <td>0.095870</td>\n",
              "      <td>0.092630</td>\n",
              "      <td>0.061540</td>\n",
              "      <td>0.033500</td>\n",
              "      <td>0.179200</td>\n",
              "      <td>0.061540</td>\n",
              "      <td>0.324200</td>\n",
              "      <td>1.108000</td>\n",
              "      <td>2.287000</td>\n",
              "      <td>24.530000</td>\n",
              "      <td>0.006380</td>\n",
              "      <td>0.020450</td>\n",
              "      <td>0.025890</td>\n",
              "      <td>0.010930</td>\n",
              "      <td>0.018730</td>\n",
              "      <td>0.003187</td>\n",
              "      <td>14.970000</td>\n",
              "      <td>25.410000</td>\n",
              "      <td>97.660000</td>\n",
              "      <td>686.500000</td>\n",
              "      <td>0.131300</td>\n",
              "      <td>0.211900</td>\n",
              "      <td>0.226700</td>\n",
              "      <td>0.099930</td>\n",
              "      <td>0.282200</td>\n",
              "      <td>0.080040</td>\n",
              "    </tr>\n",
              "    <tr>\n",
              "      <th>75%</th>\n",
              "      <td>15.780000</td>\n",
              "      <td>21.800000</td>\n",
              "      <td>104.100000</td>\n",
              "      <td>782.700000</td>\n",
              "      <td>0.105300</td>\n",
              "      <td>0.130400</td>\n",
              "      <td>0.130700</td>\n",
              "      <td>0.074000</td>\n",
              "      <td>0.195700</td>\n",
              "      <td>0.066120</td>\n",
              "      <td>0.478900</td>\n",
              "      <td>1.474000</td>\n",
              "      <td>3.357000</td>\n",
              "      <td>45.190000</td>\n",
              "      <td>0.008146</td>\n",
              "      <td>0.032450</td>\n",
              "      <td>0.042050</td>\n",
              "      <td>0.014710</td>\n",
              "      <td>0.023480</td>\n",
              "      <td>0.004558</td>\n",
              "      <td>18.790000</td>\n",
              "      <td>29.720000</td>\n",
              "      <td>125.400000</td>\n",
              "      <td>1084.000000</td>\n",
              "      <td>0.146000</td>\n",
              "      <td>0.339100</td>\n",
              "      <td>0.382900</td>\n",
              "      <td>0.161400</td>\n",
              "      <td>0.317900</td>\n",
              "      <td>0.092080</td>\n",
              "    </tr>\n",
              "    <tr>\n",
              "      <th>max</th>\n",
              "      <td>28.110000</td>\n",
              "      <td>39.280000</td>\n",
              "      <td>188.500000</td>\n",
              "      <td>2501.000000</td>\n",
              "      <td>0.163400</td>\n",
              "      <td>0.345400</td>\n",
              "      <td>0.426800</td>\n",
              "      <td>0.201200</td>\n",
              "      <td>0.304000</td>\n",
              "      <td>0.097440</td>\n",
              "      <td>2.873000</td>\n",
              "      <td>4.885000</td>\n",
              "      <td>21.980000</td>\n",
              "      <td>542.200000</td>\n",
              "      <td>0.031130</td>\n",
              "      <td>0.135400</td>\n",
              "      <td>0.396000</td>\n",
              "      <td>0.052790</td>\n",
              "      <td>0.078950</td>\n",
              "      <td>0.029840</td>\n",
              "      <td>36.040000</td>\n",
              "      <td>49.540000</td>\n",
              "      <td>251.200000</td>\n",
              "      <td>4254.000000</td>\n",
              "      <td>0.222600</td>\n",
              "      <td>1.058000</td>\n",
              "      <td>1.252000</td>\n",
              "      <td>0.291000</td>\n",
              "      <td>0.663800</td>\n",
              "      <td>0.207500</td>\n",
              "    </tr>\n",
              "  </tbody>\n",
              "</table>\n",
              "</div>"
            ],
            "text/plain": [
              "       radius_mean  texture_mean  ...  symmetry_worst  dimension_worst\n",
              "count   569.000000    569.000000  ...      569.000000       569.000000\n",
              "mean     14.127292     19.289649  ...        0.290076         0.083946\n",
              "std       3.524049      4.301036  ...        0.061867         0.018061\n",
              "min       6.981000      9.710000  ...        0.156500         0.055040\n",
              "25%      11.700000     16.170000  ...        0.250400         0.071460\n",
              "50%      13.370000     18.840000  ...        0.282200         0.080040\n",
              "75%      15.780000     21.800000  ...        0.317900         0.092080\n",
              "max      28.110000     39.280000  ...        0.663800         0.207500\n",
              "\n",
              "[8 rows x 30 columns]"
            ]
          },
          "metadata": {
            "tags": []
          },
          "execution_count": 18
        }
      ]
    },
    {
      "cell_type": "code",
      "metadata": {
        "id": "w3ZOVy_T1RKB",
        "colab_type": "code",
        "colab": {
          "base_uri": "https://localhost:8080/",
          "height": 300
        },
        "outputId": "7e163fee-066a-4b31-e99c-652f89a6ebf7"
      },
      "source": [
        "sns.countplot(data['diagnosis'],label=\"Count\")\n"
      ],
      "execution_count": 19,
      "outputs": [
        {
          "output_type": "execute_result",
          "data": {
            "text/plain": [
              "<matplotlib.axes._subplots.AxesSubplot at 0x7fa70f8a6dd8>"
            ]
          },
          "metadata": {
            "tags": []
          },
          "execution_count": 19
        },
        {
          "output_type": "display_data",
          "data": {
            "image/png": "[encoded data removed]",
            "text/plain": [
              "<Figure size 432x288 with 1 Axes>"
            ]
          },
          "metadata": {
            "tags": []
          }
        }
      ]
    },
    {
      "cell_type": "code",
      "metadata": {
        "id": "ymPorZJH1ZOV",
        "colab_type": "code",
        "colab": {
          "base_uri": "https://localhost:8080/",
          "height": 851
        },
        "outputId": "faf15fd5-ef80-4b35-dba1-04b35a58f589"
      },
      "source": [
        "# now lets draw a correlation graph so that we can remove multi colinearity it means the columns are\n",
        "# dependenig on each other so we should avoid it because what is the use of using same column twice\n",
        "# lets check the correlation between features\n",
        "# now we will do this analysis only for features_mean then we will do for others and will see who is doing best\n",
        "corr = data[features_mean].corr() # .corr is used for find corelation\n",
        "plt.figure(figsize=(14,14))\n",
        "sns.heatmap(corr, cbar = True,  square = True, annot=True, fmt= '.2f',annot_kws={'size': 15},\n",
        "           xticklabels= features_mean, yticklabels= features_mean,\n",
        "           cmap= 'coolwarm') # for more on heatmap you can visit Link(http://seaborn.pydata.org/generated/seaborn.heatmap.html)\n"
      ],
      "execution_count": 20,
      "outputs": [
        {
          "output_type": "execute_result",
          "data": {
            "text/plain": [
              "<matplotlib.axes._subplots.AxesSubplot at 0x7fa70cfea320>"
            ]
          },
          "metadata": {
            "tags": []
          },
          "execution_count": 20
        },
        {
          "output_type": "display_data",
          "data": {
            "image/png": "[encoded data removed]",
            "text/plain": [
              "<Figure size 1008x1008 with 2 Axes>"
            ]
          },
          "metadata": {
            "tags": []
          }
        }
      ]
    },
    {
      "cell_type": "code",
      "metadata": {
        "id": "xTZKP2Ew1cHl",
        "colab_type": "code",
        "colab": {
          "base_uri": "https://localhost:8080/",
          "height": 52
        },
        "outputId": "4a98152f-647f-4dea-ad31-31545a1dd1dd"
      },
      "source": [
        "prediction_var = ['texture_mean','perimeter_mean','smoothness_mean','compactness_mean','symmetry_mean']\n",
        "# now these are the variables which will use for prediction\n",
        "\n",
        "#now split our data into train and test\n",
        "train, test = train_test_split(data, test_size = 0.3)# in this our main data is splitted into train and test\n",
        "# we can check their dimension\n",
        "print(train.shape)\n",
        "print(test.shape)\n",
        "\n"
      ],
      "execution_count": 21,
      "outputs": [
        {
          "output_type": "stream",
          "text": [
            "(398, 31)\n",
            "(171, 31)\n"
          ],
          "name": "stdout"
        }
      ]
    },
    {
      "cell_type": "code",
      "metadata": {
        "id": "FIqFJVMm1iSt",
        "colab_type": "code",
        "colab": {
          "base_uri": "https://localhost:8080/",
          "height": 139
        },
        "outputId": "47aa623b-85d0-4cb1-a544-0a33280cd22f"
      },
      "source": [
        "train_X = train[prediction_var]# taking the training data input \n",
        "train_y=train.diagnosis# This is output of our training data\n",
        "# same we have to do for test\n",
        "test_X= test[prediction_var] # taking test data inputs\n",
        "test_y =test.diagnosis   #output value of test dat\n",
        "\n",
        "model=RandomForestClassifier(n_estimators=100)# a simple random forest model\n",
        "\n",
        "model.fit(train_X,train_y)# now fit our model for traiing data\n",
        "\n"
      ],
      "execution_count": 22,
      "outputs": [
        {
          "output_type": "execute_result",
          "data": {
            "text/plain": [
              "RandomForestClassifier(bootstrap=True, class_weight=None, criterion='gini',\n",
              "                       max_depth=None, max_features='auto', max_leaf_nodes=None,\n",
              "                       min_impurity_decrease=0.0, min_impurity_split=None,\n",
              "                       min_samples_leaf=1, min_samples_split=2,\n",
              "                       min_weight_fraction_leaf=0.0, n_estimators=100,\n",
              "                       n_jobs=None, oob_score=False, random_state=None,\n",
              "                       verbose=0, warm_start=False)"
            ]
          },
          "metadata": {
            "tags": []
          },
          "execution_count": 22
        }
      ]
    },
    {
      "cell_type": "code",
      "metadata": {
        "id": "u_2LaFp81mVP",
        "colab_type": "code",
        "colab": {
          "base_uri": "https://localhost:8080/",
          "height": 34
        },
        "outputId": "877fa5ad-923a-4ef6-a505-c1c1166056ca"
      },
      "source": [
        "prediction=model.predict(test_X)# predict for the test data\n",
        "# prediction will contain the predicted value by our model predicted values of dignosis column for test inputs\n",
        "\n",
        "metrics.accuracy_score(prediction,test_y) # to check the accuracy\n",
        "# here we will use accuracy measurement between our predicted value and our test output values\n",
        "\n"
      ],
      "execution_count": 23,
      "outputs": [
        {
          "output_type": "execute_result",
          "data": {
            "text/plain": [
              "0.9122807017543859"
            ]
          },
          "metadata": {
            "tags": []
          },
          "execution_count": 23
        }
      ]
    },
    {
      "cell_type": "code",
      "metadata": {
        "id": "wosRhaxi1uBe",
        "colab_type": "code",
        "colab": {
          "base_uri": "https://localhost:8080/",
          "height": 89
        },
        "outputId": "b3ddb5f0-7ffc-4472-9a42-dfbb20ba5b24"
      },
      "source": [
        "# lets now try with SVM\n",
        "\n",
        "model = svm.SVC()\n",
        "model.fit(train_X,train_y)\n",
        "prediction=model.predict(test_X)\n",
        "metrics.accuracy_score(prediction,test_y)\n",
        "\n"
      ],
      "execution_count": 24,
      "outputs": [
        {
          "output_type": "stream",
          "text": [
            "/usr/local/lib/python3.6/dist-packages/sklearn/svm/base.py:193: FutureWarning: The default value of gamma will change from 'auto' to 'scale' in version 0.22 to account better for unscaled features. Set gamma explicitly to 'auto' or 'scale' to avoid this warning.\n",
            "  \"avoid this warning.\", FutureWarning)\n"
          ],
          "name": "stderr"
        },
        {
          "output_type": "execute_result",
          "data": {
            "text/plain": [
              "0.8713450292397661"
            ]
          },
          "metadata": {
            "tags": []
          },
          "execution_count": 24
        }
      ]
    },
    {
      "cell_type": "code",
      "metadata": {
        "id": "AjTJ4u8Q12Dz",
        "colab_type": "code",
        "colab": {
          "base_uri": "https://localhost:8080/",
          "height": 34
        },
        "outputId": "a5c798a3-74d4-4b57-df24-80e66909cafb"
      },
      "source": [
        "#Now lets do this for all feature_mean so that from Random forest we can get the feature which are important\n",
        "\n",
        "prediction_var = features_mean # taking all features\n",
        "\n",
        "train_X= train[prediction_var]\n",
        "train_y= train.diagnosis\n",
        "test_X = test[prediction_var]\n",
        "test_y = test.diagnosis\n",
        "\n",
        "model=RandomForestClassifier(n_estimators=100)\n",
        "\n",
        "model.fit(train_X,train_y)\n",
        "prediction = model.predict(test_X)\n",
        "metrics.accuracy_score(prediction,test_y)\n",
        "\n"
      ],
      "execution_count": 26,
      "outputs": [
        {
          "output_type": "execute_result",
          "data": {
            "text/plain": [
              "0.935672514619883"
            ]
          },
          "metadata": {
            "tags": []
          },
          "execution_count": 26
        }
      ]
    },
    {
      "cell_type": "code",
      "metadata": {
        "id": "lzWrnQW02AeD",
        "colab_type": "code",
        "colab": {
          "base_uri": "https://localhost:8080/",
          "height": 208
        },
        "outputId": "54ef0291-508e-42f7-b6a9-a0aefff58c9d"
      },
      "source": [
        "featimp = pd.Series(model.feature_importances_, index=prediction_var).sort_values(ascending=False)\n",
        "print(featimp) # this is the property of Random Forest classifier that it provide us the importance \n",
        "# of the features used\n"
      ],
      "execution_count": 27,
      "outputs": [
        {
          "output_type": "stream",
          "text": [
            "points_mean         0.263648\n",
            "radius_mean         0.182317\n",
            "concavity_mean      0.140919\n",
            "perimeter_mean      0.139241\n",
            "area_mean           0.106324\n",
            "texture_mean        0.069636\n",
            "compactness_mean    0.032529\n",
            "smoothness_mean     0.025889\n",
            "symmetry_mean       0.020155\n",
            "dimension_mean      0.019341\n",
            "dtype: float64\n"
          ],
          "name": "stdout"
        }
      ]
    },
    {
      "cell_type": "code",
      "metadata": {
        "id": "kA5-WYqQ2IWx",
        "colab_type": "code",
        "colab": {
          "base_uri": "https://localhost:8080/",
          "height": 89
        },
        "outputId": "89a91a38-4e87-4905-e0c3-902d38c3ba8e"
      },
      "source": [
        "# first lets do with SVM also using all features\n",
        "\n",
        "model = svm.SVC()\n",
        "model.fit(train_X,train_y)\n",
        "prediction=model.predict(test_X)\n",
        "metrics.accuracy_score(prediction,test_y)\n",
        "\n"
      ],
      "execution_count": 28,
      "outputs": [
        {
          "output_type": "stream",
          "text": [
            "/usr/local/lib/python3.6/dist-packages/sklearn/svm/base.py:193: FutureWarning: The default value of gamma will change from 'auto' to 'scale' in version 0.22 to account better for unscaled features. Set gamma explicitly to 'auto' or 'scale' to avoid this warning.\n",
            "  \"avoid this warning.\", FutureWarning)\n"
          ],
          "name": "stderr"
        },
        {
          "output_type": "execute_result",
          "data": {
            "text/plain": [
              "0.7251461988304093"
            ]
          },
          "metadata": {
            "tags": []
          },
          "execution_count": 28
        }
      ]
    },
    {
      "cell_type": "code",
      "metadata": {
        "id": "Zf4sCRG32Te7",
        "colab_type": "code",
        "colab": {
          "base_uri": "https://localhost:8080/",
          "height": 34
        },
        "outputId": "6454d903-9230-45b8-de84-545e3554e975"
      },
      "source": [
        "prediction_var=['concavity_mean','perimeter_mean'  , 'radius_mean','area_mean']      \n",
        "\n",
        "train_X= train[prediction_var]\n",
        "train_y= train.diagnosis\n",
        "test_X = test[prediction_var]\n",
        "test_y = test.diagnosis\n",
        "\n",
        "model=RandomForestClassifier(n_estimators=100)\n",
        "model.fit(train_X,train_y)\n",
        "prediction = model.predict(test_X)\n",
        "metrics.accuracy_score(prediction,test_y)\n",
        "\n",
        "\n"
      ],
      "execution_count": 31,
      "outputs": [
        {
          "output_type": "execute_result",
          "data": {
            "text/plain": [
              "0.9181286549707602"
            ]
          },
          "metadata": {
            "tags": []
          },
          "execution_count": 31
        }
      ]
    },
    {
      "cell_type": "code",
      "metadata": {
        "id": "0OfrSmrO4zww",
        "colab_type": "code",
        "colab": {
          "base_uri": "https://localhost:8080/",
          "height": 89
        },
        "outputId": "34c2b61b-c5ff-4b90-cd1e-20980fa6d1e2"
      },
      "source": [
        "model = svm.SVC()\n",
        "model.fit(train_X,train_y)\n",
        "prediction=model.predict(test_X)\n",
        "metrics.accuracy_score(prediction,test_y)\n"
      ],
      "execution_count": 32,
      "outputs": [
        {
          "output_type": "stream",
          "text": [
            "/usr/local/lib/python3.6/dist-packages/sklearn/svm/base.py:193: FutureWarning: The default value of gamma will change from 'auto' to 'scale' in version 0.22 to account better for unscaled features. Set gamma explicitly to 'auto' or 'scale' to avoid this warning.\n",
            "  \"avoid this warning.\", FutureWarning)\n"
          ],
          "name": "stderr"
        },
        {
          "output_type": "execute_result",
          "data": {
            "text/plain": [
              "0.7192982456140351"
            ]
          },
          "metadata": {
            "tags": []
          },
          "execution_count": 32
        }
      ]
    },
    {
      "cell_type": "code",
      "metadata": {
        "id": "jWT1JaUh47Iy",
        "colab_type": "code",
        "colab": {
          "base_uri": "https://localhost:8080/",
          "height": 89
        },
        "outputId": "7a44fc68-5995-4f17-8326-5416550d8b92"
      },
      "source": [
        "# so from this discussion we got multi colinearty effecting our SVM part a lot \n",
        "# but its not affecting so much randomforest because for random forest we dont need to make so much effort for our analysis part\n",
        "# now lets do with the 3rd part of data which is worst\n",
        "# first start with all features_worst\n",
        "\n",
        "prediction_var = features_worst\n",
        "\n",
        "train_X= train[prediction_var]\n",
        "train_y= train.diagnosis\n",
        "test_X = test[prediction_var]\n",
        "test_y = test.diagnosis\n",
        "\n",
        "model = svm.SVC()\n",
        "model.fit(train_X,train_y)\n",
        "prediction=model.predict(test_X)\n",
        "metrics.accuracy_score(prediction,test_y)\n",
        "\n"
      ],
      "execution_count": 33,
      "outputs": [
        {
          "output_type": "stream",
          "text": [
            "/usr/local/lib/python3.6/dist-packages/sklearn/svm/base.py:193: FutureWarning: The default value of gamma will change from 'auto' to 'scale' in version 0.22 to account better for unscaled features. Set gamma explicitly to 'auto' or 'scale' to avoid this warning.\n",
            "  \"avoid this warning.\", FutureWarning)\n"
          ],
          "name": "stderr"
        },
        {
          "output_type": "execute_result",
          "data": {
            "text/plain": [
              "0.6783625730994152"
            ]
          },
          "metadata": {
            "tags": []
          },
          "execution_count": 33
        }
      ]
    },
    {
      "cell_type": "code",
      "metadata": {
        "id": "XakWPkQx5GRC",
        "colab_type": "code",
        "colab": {
          "base_uri": "https://localhost:8080/",
          "height": 34
        },
        "outputId": "5dadba10-9ba8-4a2a-cbcc-14b58c24078d"
      },
      "source": [
        "# but same problem With SVM, very much less accuray I think we have to tune its parameter\n",
        "# that i will do later in intermidate part\n",
        "#now we can get the important features from random forest now run Random Forest for it \n",
        "\n",
        "model=RandomForestClassifier(n_estimators=100)\n",
        "model.fit(train_X,train_y)\n",
        "prediction = model.predict(test_X)\n",
        "metrics.accuracy_score(prediction,test_y)\n",
        "\n"
      ],
      "execution_count": 34,
      "outputs": [
        {
          "output_type": "execute_result",
          "data": {
            "text/plain": [
              "0.9649122807017544"
            ]
          },
          "metadata": {
            "tags": []
          },
          "execution_count": 34
        }
      ]
    },
    {
      "cell_type": "code",
      "metadata": {
        "id": "zuIbsU635Ig5",
        "colab_type": "code",
        "colab": {
          "base_uri": "https://localhost:8080/",
          "height": 208
        },
        "outputId": "2d43dc0e-ed41-43d5-b498-38b39f7982a6"
      },
      "source": [
        "# the accuracy for RandomForest invcrease it means the value are more catogrical in Worst part\n",
        "#lets get the important features\n",
        "featimp = pd.Series(model.feature_importances_, index=prediction_var).sort_values(ascending=False)\n",
        "print(featimp) # this is the property of Random Forest classifier that it provide us the importance \n",
        "# of the features used\n"
      ],
      "execution_count": 35,
      "outputs": [
        {
          "output_type": "stream",
          "text": [
            "area_worst           0.241807\n",
            "perimeter_worst      0.201632\n",
            "radius_worst         0.163201\n",
            "points_worst         0.156678\n",
            "concavity_worst      0.082893\n",
            "texture_worst        0.048909\n",
            "compactness_worst    0.033360\n",
            "symmetry_worst       0.031361\n",
            "smoothness_worst     0.024051\n",
            "dimension_worst      0.016107\n",
            "dtype: float64\n"
          ],
          "name": "stdout"
        }
      ]
    },
    {
      "cell_type": "code",
      "metadata": {
        "id": "Z2HvMstt5RI1",
        "colab_type": "code",
        "colab": {
          "base_uri": "https://localhost:8080/",
          "height": 34
        },
        "outputId": "24de0fce-bf20-42ce-8b1c-1170c8de15b2"
      },
      "source": [
        "# same parameter but with great importance and here it seamed the only conacve points_worst is making \n",
        "# very important so it may be bias lets check only for top 4 important features\n",
        "\n",
        "prediction_var = ['radius_worst','area_worst','perimeter_worst','concavity_worst'] \n",
        "\n",
        "train_X= train[prediction_var]\n",
        "train_y= train.diagnosis\n",
        "test_X = test[prediction_var]\n",
        "test_y = test.diagnosis\n",
        "\n",
        "model=RandomForestClassifier(n_estimators=100)\n",
        "model.fit(train_X,train_y)\n",
        "prediction = model.predict(test_X)\n",
        "metrics.accuracy_score(prediction,test_y)\n",
        "\n"
      ],
      "execution_count": 37,
      "outputs": [
        {
          "output_type": "execute_result",
          "data": {
            "text/plain": [
              "0.9473684210526315"
            ]
          },
          "metadata": {
            "tags": []
          },
          "execution_count": 37
        }
      ]
    },
    {
      "cell_type": "code",
      "metadata": {
        "id": "TE8VDRZM7_-_",
        "colab_type": "code",
        "colab": {
          "base_uri": "https://localhost:8080/",
          "height": 89
        },
        "outputId": "26bb3e92-9e4d-4981-c7f4-ef7bcc80b118"
      },
      "source": [
        "#check for SVM\n",
        "model = svm.SVC()\n",
        "model.fit(train_X,train_y)\n",
        "prediction=model.predict(test_X)\n",
        "metrics.accuracy_score(prediction,test_y)\n"
      ],
      "execution_count": 38,
      "outputs": [
        {
          "output_type": "stream",
          "text": [
            "/usr/local/lib/python3.6/dist-packages/sklearn/svm/base.py:193: FutureWarning: The default value of gamma will change from 'auto' to 'scale' in version 0.22 to account better for unscaled features. Set gamma explicitly to 'auto' or 'scale' to avoid this warning.\n",
            "  \"avoid this warning.\", FutureWarning)\n"
          ],
          "name": "stderr"
        },
        {
          "output_type": "execute_result",
          "data": {
            "text/plain": [
              "0.6666666666666666"
            ]
          },
          "metadata": {
            "tags": []
          },
          "execution_count": 38
        }
      ]
    },
    {
      "cell_type": "code",
      "metadata": {
        "id": "ajiqImhc8MpU",
        "colab_type": "code",
        "colab": {
          "base_uri": "https://localhost:8080/",
          "height": 220
        },
        "outputId": "3e2b9d8f-e05f-46b3-ea23-287492d96eb0"
      },
      "source": [
        "# now I think for simplicity the Randomforest will be better for prediction\n",
        "\n",
        "# Now explore a little bit more\n",
        "# now from features_mean i will try to find the variable which can be use for classify\n",
        "# so lets plot a scatter plot for identify those variable who have a separable boundary between two class\n",
        "#of cancer\n",
        "\n",
        "# Lets start with the data analysis for features_mean\n",
        "# Just try to understand which features can be used for prediction\n",
        "# I will plot scatter plot for the all features_mean for both of diagnosis Category\n",
        "# and from it we will find which are easily can used for differenciate between two category\n",
        "from pandas.plotting import scatter_matrix\n",
        "color_function = {0: \"blue\", 1: \"red\"} # Here Red color will be 1 which means M and blue foo 0 means B\n",
        "colors = data[\"diagnosis\"].map(lambda x: color_function.get(x))# mapping the color fuction with diagnosis column\n",
        "pd.scatter_matrix(data[features_mean], c=colors, alpha = 0.5, figsize = (15, 15)); # plotting scatter plot matrix\n",
        "\n"
      ],
      "execution_count": 41,
      "outputs": [
        {
          "output_type": "error",
          "ename": "AttributeError",
          "evalue": "ignored",
          "traceback": [
            "\u001b[0;31m---------------------------------------------------------------------------\u001b[0m",
            "\u001b[0;31mAttributeError\u001b[0m                            Traceback (most recent call last)",
            "\u001b[0;32m<ipython-input-41-789796906dd8>\u001b[0m in \u001b[0;36m<module>\u001b[0;34m()\u001b[0m\n\u001b[1;32m      2\u001b[0m \u001b[0mcolor_function\u001b[0m \u001b[0;34m=\u001b[0m \u001b[0;34m{\u001b[0m\u001b[0;36m0\u001b[0m\u001b[0;34m:\u001b[0m \u001b[0;34m\"blue\"\u001b[0m\u001b[0;34m,\u001b[0m \u001b[0;36m1\u001b[0m\u001b[0;34m:\u001b[0m \u001b[0;34m\"red\"\u001b[0m\u001b[0;34m}\u001b[0m \u001b[0;31m# Here Red color will be 1 which means M and blue foo 0 means B\u001b[0m\u001b[0;34m\u001b[0m\u001b[0;34m\u001b[0m\u001b[0m\n\u001b[1;32m      3\u001b[0m \u001b[0mcolors\u001b[0m \u001b[0;34m=\u001b[0m \u001b[0mdata\u001b[0m\u001b[0;34m[\u001b[0m\u001b[0;34m\"diagnosis\"\u001b[0m\u001b[0;34m]\u001b[0m\u001b[0;34m.\u001b[0m\u001b[0mmap\u001b[0m\u001b[0;34m(\u001b[0m\u001b[0;32mlambda\u001b[0m \u001b[0mx\u001b[0m\u001b[0;34m:\u001b[0m \u001b[0mcolor_function\u001b[0m\u001b[0;34m.\u001b[0m\u001b[0mget\u001b[0m\u001b[0;34m(\u001b[0m\u001b[0mx\u001b[0m\u001b[0;34m)\u001b[0m\u001b[0;34m)\u001b[0m\u001b[0;31m# mapping the color fuction with diagnosis column\u001b[0m\u001b[0;34m\u001b[0m\u001b[0;34m\u001b[0m\u001b[0m\n\u001b[0;32m----> 4\u001b[0;31m \u001b[0mpd\u001b[0m\u001b[0;34m.\u001b[0m\u001b[0mscatter_matrix\u001b[0m\u001b[0;34m(\u001b[0m\u001b[0mdata\u001b[0m\u001b[0;34m[\u001b[0m\u001b[0mfeatures_mean\u001b[0m\u001b[0;34m]\u001b[0m\u001b[0;34m,\u001b[0m \u001b[0mc\u001b[0m\u001b[0;34m=\u001b[0m\u001b[0mcolors\u001b[0m\u001b[0;34m,\u001b[0m \u001b[0malpha\u001b[0m \u001b[0;34m=\u001b[0m \u001b[0;36m0.5\u001b[0m\u001b[0;34m,\u001b[0m \u001b[0mfigsize\u001b[0m \u001b[0;34m=\u001b[0m \u001b[0;34m(\u001b[0m\u001b[0;36m15\u001b[0m\u001b[0;34m,\u001b[0m \u001b[0;36m15\u001b[0m\u001b[0;34m)\u001b[0m\u001b[0;34m)\u001b[0m\u001b[0;34m;\u001b[0m \u001b[0;31m# plotting scatter plot matrix\u001b[0m\u001b[0;34m\u001b[0m\u001b[0;34m\u001b[0m\u001b[0m\n\u001b[0m\u001b[1;32m      5\u001b[0m \u001b[0;34m\u001b[0m\u001b[0m\n",
            "\u001b[0;31mAttributeError\u001b[0m: module 'pandas' has no attribute 'scatter_matrix'"
          ]
        }
      ]
    },
    {
      "cell_type": "code",
      "metadata": {
        "id": "CpGczTV4890i",
        "colab_type": "code",
        "colab": {
          "base_uri": "https://localhost:8080/",
          "height": 191
        },
        "outputId": "07157022-b5f5-4a78-d2fc-a7d42915daf9"
      },
      "source": [
        "# So predicton features will be \n",
        "features_mean\n"
      ],
      "execution_count": 42,
      "outputs": [
        {
          "output_type": "execute_result",
          "data": {
            "text/plain": [
              "['radius_mean',\n",
              " 'texture_mean',\n",
              " 'perimeter_mean',\n",
              " 'area_mean',\n",
              " 'smoothness_mean',\n",
              " 'compactness_mean',\n",
              " 'concavity_mean',\n",
              " 'points_mean',\n",
              " 'symmetry_mean',\n",
              " 'dimension_mean']"
            ]
          },
          "metadata": {
            "tags": []
          },
          "execution_count": 42
        }
      ]
    },
    {
      "cell_type": "code",
      "metadata": {
        "id": "TgzpLwgD9GKx",
        "colab_type": "code",
        "colab": {
          "base_uri": "https://localhost:8080/",
          "height": 263
        },
        "outputId": "e8528495-3e36-4146-e113-1ccf98376941"
      },
      "source": [
        "data_X= data[prediction_var]\n",
        "data_y= data[\"diagnosis\"]\n",
        "\n",
        "# lets Make a function for Grid Search CV\n",
        "def Classification_model_gridsearchCV(model,param_grid,data_X,data_y):\n",
        "    clf = GridSearchCV(model,param_grid,cv=10,scoring=\"accuracy\")\n",
        "    # this is how we use grid serch CV we are giving our model\n",
        "    # the we gave parameters those we want to tune\n",
        "    # Cv is for cross validation\n",
        "    # scoring means to score the classifier\n",
        "    \n",
        "    clf.fit(train_X,train_y)\n",
        "    print(\"The best parameter found on development set is :\")\n",
        "    # this will gie us our best parameter to use\n",
        "    print(clf.best_params_)\n",
        "    print(\"the bset estimator is \")\n",
        "    print(clf.best_estimator_)\n",
        "    print(\"The best score is \")\n",
        "    # this is the best score that we can achieve using these parameters#\n",
        "    print(clf.best_score_)\n",
        "    \n",
        "    \n",
        "    \n",
        "    \n",
        "\n",
        "# Here we have to take parameters that are used for Decison tree Classifier\n",
        "# you will understand these terms once you follow the link above\n",
        "param_grid = {'max_features': ['auto', 'sqrt', 'log2'],\n",
        "              'min_samples_split': [2,3,4,5,6,7,8,9,10], \n",
        "              'min_samples_leaf':[2,3,4,5,6,7,8,9,10] }\n",
        "# here our gridasearchCV will take all combinations of these parameter and apply it to model \n",
        "# and then it will find the best parameter for model\n",
        "model= DecisionTreeClassifier()\n",
        "Classification_model_gridsearchCV(model,param_grid,data_X,data_y)\n",
        "# call our function\n",
        "\n"
      ],
      "execution_count": 43,
      "outputs": [
        {
          "output_type": "stream",
          "text": [
            "The best parameter found on development set is :\n",
            "{'max_features': 'log2', 'min_samples_leaf': 9, 'min_samples_split': 10}\n",
            "the bset estimator is \n",
            "DecisionTreeClassifier(class_weight=None, criterion='gini', max_depth=None,\n",
            "                       max_features='log2', max_leaf_nodes=None,\n",
            "                       min_impurity_decrease=0.0, min_impurity_split=None,\n",
            "                       min_samples_leaf=9, min_samples_split=10,\n",
            "                       min_weight_fraction_leaf=0.0, presort=False,\n",
            "                       random_state=None, splitter='best')\n",
            "The best score is \n",
            "0.9371859296482412\n"
          ],
          "name": "stdout"
        },
        {
          "output_type": "stream",
          "text": [
            "/usr/local/lib/python3.6/dist-packages/sklearn/model_selection/_search.py:813: DeprecationWarning: The default of the `iid` parameter will change from True to False in version 0.22 and will be removed in 0.24. This will change numeric results when test-set sizes are unequal.\n",
            "  DeprecationWarning)\n"
          ],
          "name": "stderr"
        }
      ]
    },
    {
      "cell_type": "code",
      "metadata": {
        "id": "7GP4tXL_9d6r",
        "colab_type": "code",
        "colab": {
          "base_uri": "https://localhost:8080/",
          "height": 211
        },
        "outputId": "f345b97a-2db1-4838-d2d5-cb6b6ed4714d"
      },
      "source": [
        "#observation\n",
        "\n",
        "   # the score increase to 95 %\n",
        "    #Seems to be good\n",
        "    #Lets do with KNN\n",
        "    #link for KNN Link\n",
        "    #if you are a beginner please follow the link it will be very much useful\n",
        "\n",
        "model = KNeighborsClassifier()\n",
        "\n",
        "k_range = list(range(1, 30))\n",
        "leaf_size = list(range(1,30))\n",
        "weight_options = ['uniform', 'distance']\n",
        "param_grid = {'n_neighbors': k_range, 'leaf_size': leaf_size, 'weights': weight_options}\n",
        "Classification_model_gridsearchCV(model,param_grid,data_X,data_y)\n",
        "\n"
      ],
      "execution_count": 46,
      "outputs": [
        {
          "output_type": "stream",
          "text": [
            "The best parameter found on development set is :\n",
            "{'leaf_size': 1, 'n_neighbors': 27, 'weights': 'distance'}\n",
            "the bset estimator is \n",
            "KNeighborsClassifier(algorithm='auto', leaf_size=1, metric='minkowski',\n",
            "                     metric_params=None, n_jobs=None, n_neighbors=27, p=2,\n",
            "                     weights='distance')\n",
            "The best score is \n",
            "0.9120603015075377\n"
          ],
          "name": "stdout"
        },
        {
          "output_type": "stream",
          "text": [
            "/usr/local/lib/python3.6/dist-packages/sklearn/model_selection/_search.py:813: DeprecationWarning: The default of the `iid` parameter will change from True to False in version 0.22 and will be removed in 0.24. This will change numeric results when test-set sizes are unequal.\n",
            "  DeprecationWarning)\n"
          ],
          "name": "stderr"
        }
      ]
    },
    {
      "cell_type": "code",
      "metadata": {
        "id": "v-LoA0gk-c5C",
        "colab_type": "code",
        "colab": {
          "base_uri": "https://localhost:8080/",
          "height": 228
        },
        "outputId": "81ce2568-74b5-4cad-d3d1-864bad5c1ea0"
      },
      "source": [
        "model=svm.SVC()\n",
        "param_grid = [\n",
        "              {'C': [1, 10, 100, 1000], \n",
        "               'kernel': ['linear']\n",
        "              },\n",
        "              {'C': [1, 10, 100, 1000], \n",
        "               'gamma': [0.001, 0.0001], \n",
        "               'kernel': ['rbf']\n",
        "              },\n",
        " ]\n",
        "Classification_model_gridsearchCV(model,param_grid,data_X,data_y)\n",
        "\n"
      ],
      "execution_count": 47,
      "outputs": [
        {
          "output_type": "stream",
          "text": [
            "/usr/local/lib/python3.6/dist-packages/sklearn/model_selection/_search.py:813: DeprecationWarning: The default of the `iid` parameter will change from True to False in version 0.22 and will be removed in 0.24. This will change numeric results when test-set sizes are unequal.\n",
            "  DeprecationWarning)\n"
          ],
          "name": "stderr"
        },
        {
          "output_type": "stream",
          "text": [
            "The best parameter found on development set is :\n",
            "{'C': 100, 'kernel': 'linear'}\n",
            "the bset estimator is \n",
            "SVC(C=100, cache_size=200, class_weight=None, coef0=0.0,\n",
            "    decision_function_shape='ovr', degree=3, gamma='auto_deprecated',\n",
            "    kernel='linear', max_iter=-1, probability=False, random_state=None,\n",
            "    shrinking=True, tol=0.001, verbose=False)\n",
            "The best score is \n",
            "0.9321608040201005\n"
          ],
          "name": "stdout"
        }
      ]
    }
  ]
}